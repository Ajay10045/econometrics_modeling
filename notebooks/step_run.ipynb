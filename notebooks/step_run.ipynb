{
 "cells": [
  {
   "cell_type": "code",
   "execution_count": 1,
   "id": "2d668eee",
   "metadata": {},
   "outputs": [
    {
     "data": {
      "text/html": [
       "<pre style=\"white-space:pre;overflow-x:auto;line-height:normal;font-family:Menlo,'DejaVu Sans Mono',consolas,'Courier New',monospace\"><span style=\"color: #7fbfbf; text-decoration-color: #7fbfbf\">[06/21/25 20:19:06] </span><span style=\"color: #000080; text-decoration-color: #000080\">INFO    </span> Using                                                                  <a href=\"file:///Users/ajaynehra/miniforge3/envs/trade_promo/lib/python3.10/site-packages/kedro/framework/project/__init__.py\" target=\"_blank\"><span style=\"color: #7f7f7f; text-decoration-color: #7f7f7f\">__init__.py</span></a><span style=\"color: #7f7f7f; text-decoration-color: #7f7f7f\">:</span><a href=\"file:///Users/ajaynehra/miniforge3/envs/trade_promo/lib/python3.10/site-packages/kedro/framework/project/__init__.py#272\" target=\"_blank\"><span style=\"color: #7f7f7f; text-decoration-color: #7f7f7f\">272</span></a>\n",
       "<span style=\"color: #7fbfbf; text-decoration-color: #7fbfbf\">                    </span>         <span style=\"color: #008000; text-decoration-color: #008000\">'/Users/ajaynehra/miniforge3/envs/trade_promo/lib/python3.10/site-pack</span> <span style=\"color: #7f7f7f; text-decoration-color: #7f7f7f\">               </span>\n",
       "<span style=\"color: #7fbfbf; text-decoration-color: #7fbfbf\">                    </span>         <span style=\"color: #008000; text-decoration-color: #008000\">ages/kedro/framework/project/rich_logging.yml'</span> as logging              <span style=\"color: #7f7f7f; text-decoration-color: #7f7f7f\">               </span>\n",
       "<span style=\"color: #7fbfbf; text-decoration-color: #7fbfbf\">                    </span>         configuration.                                                         <span style=\"color: #7f7f7f; text-decoration-color: #7f7f7f\">               </span>\n",
       "</pre>\n"
      ],
      "text/plain": [
       "\u001b[2;36m[06/21/25 20:19:06]\u001b[0m\u001b[2;36m \u001b[0m\u001b[34mINFO    \u001b[0m Using                                                                  \u001b]8;id=391726;file:///Users/ajaynehra/miniforge3/envs/trade_promo/lib/python3.10/site-packages/kedro/framework/project/__init__.py\u001b\\\u001b[2m__init__.py\u001b[0m\u001b]8;;\u001b\\\u001b[2m:\u001b[0m\u001b]8;id=206732;file:///Users/ajaynehra/miniforge3/envs/trade_promo/lib/python3.10/site-packages/kedro/framework/project/__init__.py#272\u001b\\\u001b[2m272\u001b[0m\u001b]8;;\u001b\\\n",
       "\u001b[2;36m                    \u001b[0m         \u001b[32m'/Users/ajaynehra/miniforge3/envs/trade_promo/lib/python3.10/site-pack\u001b[0m \u001b[2m               \u001b[0m\n",
       "\u001b[2;36m                    \u001b[0m         \u001b[32mages/kedro/framework/project/rich_logging.yml'\u001b[0m as logging              \u001b[2m               \u001b[0m\n",
       "\u001b[2;36m                    \u001b[0m         configuration.                                                         \u001b[2m               \u001b[0m\n"
      ]
     },
     "metadata": {},
     "output_type": "display_data"
    },
    {
     "name": "stderr",
     "output_type": "stream",
     "text": [
      "25/06/21 20:19:07 WARN Utils: Your hostname, Ajays-MacBook-Pro.local resolves to a loopback address: 127.0.0.1; using 192.168.1.4 instead (on interface en0)\n",
      "25/06/21 20:19:07 WARN Utils: Set SPARK_LOCAL_IP if you need to bind to another address\n",
      "Setting default log level to \"WARN\".\n",
      "To adjust logging level use sc.setLogLevel(newLevel). For SparkR, use setLogLevel(newLevel).\n",
      "25/06/21 20:19:07 WARN NativeCodeLoader: Unable to load native-hadoop library for your platform... using builtin-java classes where applicable\n"
     ]
    },
    {
     "name": "stdout",
     "output_type": "stream",
     "text": [
      "✅ Kedro context loaded.\n",
      "Loaded param keys: ['feature_engineering', 'preprocessing', 'mixed_modeling']\n"
     ]
    }
   ],
   "source": [
    "import os\n",
    "import sys\n",
    "from pathlib import Path\n",
    "from kedro.framework.project import configure_project\n",
    "from kedro.framework.session import KedroSession\n",
    "\n",
    "# Ensure you're in project root\n",
    "project_path = Path(\"/Users/ajaynehra/Desktop/projects/econometrics-modelling\")\n",
    "os.chdir(project_path)\n",
    "\n",
    "# Add src/ to sys.path\n",
    "sys.path.append(str(project_path / \"src\"))\n",
    "\n",
    "# Configure Kedro project\n",
    "configure_project(\"econometrics_modelling\")\n",
    "\n",
    "# Create session and context\n",
    "session = KedroSession.create(project_path=project_path)\n",
    "context = session.load_context()\n",
    "\n",
    "# Load catalog and params\n",
    "catalog = context.catalog\n",
    "params = context.params\n",
    "\n",
    "print(\"✅ Kedro context loaded.\")\n",
    "print(\"Loaded param keys:\", list(params.keys()))\n"
   ]
  },
  {
   "cell_type": "code",
   "execution_count": 2,
   "id": "87a0eb85",
   "metadata": {},
   "outputs": [
    {
     "name": "stderr",
     "output_type": "stream",
     "text": [
      "WARNING: import of MainInclude.eval into Main conflicts with an existing identifier; ignored.\n",
      "WARNING: could not import MainInclude.include into Main\n"
     ]
    },
    {
     "name": "stdout",
     "output_type": "stream",
     "text": [
      "\n",
      "✅ Generated formula:\n",
      " log_total_volume ~ log_avg_price + log_promo_acv_tpr + trend + log_avg_price:ppg_id + log_promo_acv_tpr:retailer_id + (1|ppg_id) + (1|retailer_id) + (0+log_avg_price|ppg_id) + (0+log_promo_acv_tpr|retailer_id) + (1+trend|ppg_id)\n"
     ]
    },
    {
     "name": "stderr",
     "output_type": "stream",
     "text": [
      "WARNING: import of MainInclude.eval into Main conflicts with an existing identifier; ignored.\n",
      "WARNING: could not import MainInclude.include into Main\n"
     ]
    }
   ],
   "source": [
    "from econometrics_modelling.pipelines.mixed_modelling.nodes import prepare_formula_for_MM\n",
    "\n",
    "mm_spec = params[\"mixed_modeling\"][\"model_specification\"]\n",
    "formula = prepare_formula_for_MM({\"model_specification\": mm_spec})\n",
    "\n",
    "print(\"\\n✅ Generated formula:\\n\", formula)\n"
   ]
  },
  {
   "cell_type": "code",
   "execution_count": 3,
   "id": "925e5cc2",
   "metadata": {},
   "outputs": [
    {
     "name": "stdout",
     "output_type": "stream",
     "text": [
      "✅ Data file exists: True\n",
      "✅ Data shape: (624, 83)\n",
      "✅ Sample columns:\n",
      " ['ppg_id', 'retailer_id', 'total_volume', 'promo_volume', 'total_sales', 'promo_sales', 'promo_acv_tpr', 'promo_acv_feature', 'promo_acv_display', 'promo_acv_feature_display', 'acv_weighted_distribution', 'brand', 'sub_brand', 'size', 'pack_count', 'avg_price', 'edlp_price', 'holiday_flag', 'cpi', 'xpi', 'opi', 'log_total_volume', 'log_avg_price', 'log_promo_acv_tpr', 'log_promo_acv_feature', 'log_promo_acv_display', 'log_promo_acv_feature_display', 'log_cpi', 'log_xpi', 'log_opi', 'trend', 'week_1', 'week_2', 'week_3', 'week_4', 'week_5', 'week_6', 'week_7', 'week_8', 'week_9', 'week_10', 'week_11', 'week_12', 'week_13', 'week_14', 'week_15', 'week_16', 'week_17', 'week_18', 'week_19', 'week_20', 'week_21', 'week_22', 'week_23', 'week_24', 'week_25', 'week_26', 'week_27', 'week_28', 'week_29', 'week_30', 'week_31', 'week_32', 'week_33', 'week_34', 'week_35', 'week_36', 'week_37', 'week_38', 'week_39', 'week_40', 'week_41', 'week_42', 'week_43', 'week_44', 'week_45', 'week_46', 'week_47', 'week_48', 'week_49', 'week_50', 'week_51', 'week_52']\n"
     ]
    }
   ],
   "source": [
    "import pandas as pd\n",
    "\n",
    "data_path = Path(\"data/08_model_input/feature_data.csv\")\n",
    "print(\"✅ Data file exists:\", data_path.exists())\n",
    "\n",
    "df = pd.read_csv(data_path)\n",
    "print(\"✅ Data shape:\", df.shape)\n",
    "print(\"✅ Sample columns:\\n\", df.columns.tolist())\n"
   ]
  },
  {
   "cell_type": "code",
   "execution_count": 4,
   "id": "d27e5847",
   "metadata": {},
   "outputs": [
    {
     "name": "stdout",
     "output_type": "stream",
     "text": [
      "✅ Columns used in formula: {'log_promo_acv_tpr', 'log_total_volume', 'trend', 'log_avg_price', 'retailer_id', 'ppg_id'}\n",
      "❌ Missing columns in DataFrame: []\n"
     ]
    }
   ],
   "source": [
    "import re\n",
    "\n",
    "# Extract column names from formula\n",
    "formula_cols = set(re.findall(r\"[a-zA-Z_][a-zA-Z0-9_]*\", formula))\n",
    "missing_cols = [col for col in formula_cols if col not in df.columns]\n",
    "\n",
    "print(\"✅ Columns used in formula:\", formula_cols)\n",
    "print(\"❌ Missing columns in DataFrame:\", missing_cols)\n"
   ]
  },
  {
   "cell_type": "code",
   "execution_count": 5,
   "id": "d10ea7b3",
   "metadata": {},
   "outputs": [],
   "source": [
    "# Step 3: Extract grouping variables\n",
    "def extract_grouping_vars(params_dict):\n",
    "    #spec = params_dict[\"model_specification\"]\n",
    "    spec=params_dict['mixed_modeling']['model_specification']\n",
    "    group_vars = set()\n",
    "\n",
    "    group_vars.update(spec.get(\"random_effects\", {}).get(\"uncorrelated\", {}).get(\"intercepts\", []))\n",
    "\n",
    "    for slope in spec.get(\"random_effects\", {}).get(\"uncorrelated\", {}).get(\"slopes\", []):\n",
    "        group_vars.add(slope[\"by_level\"])\n",
    "\n",
    "    for corr in spec.get(\"random_effects\", {}).get(\"correlated\", []):\n",
    "        group_vars.add(corr[\"by_level\"])\n",
    "\n",
    "    for fx in spec.get(\"fixed_effects\", {}).get(\"interactions\", []):\n",
    "        group_vars.add(fx[\"with_level\"])\n",
    "\n",
    "    return list(group_vars)\n"
   ]
  },
  {
   "cell_type": "code",
   "execution_count": 6,
   "id": "d5878052",
   "metadata": {},
   "outputs": [
    {
     "name": "stdout",
     "output_type": "stream",
     "text": [
      "🔁 Grouping variables: ['ppg_id', 'retailer_id']\n"
     ]
    }
   ],
   "source": [
    "\n",
    "grouping_vars = extract_grouping_vars(params)\n",
    "print(\"🔁 Grouping variables:\", grouping_vars)"
   ]
  },
  {
   "cell_type": "code",
   "execution_count": 7,
   "id": "8fb898c3",
   "metadata": {},
   "outputs": [
    {
     "name": "stdout",
     "output_type": "stream",
     "text": [
      "✅ Calling Julia model function...\n",
      "🔍 Reading data from: data/08_model_input/feature_data.csv\n",
      "📊 Converting grouping variables to categorical: [\"ppg_id\", \"retailer_id\"]\n",
      "🧮 Parsing formula string as raw formula expression\n"
     ]
    },
    {
     "data": {
      "text/html": [
       "<pre style=\"white-space:pre;overflow-x:auto;line-height:normal;font-family:Menlo,'DejaVu Sans Mono',consolas,'Courier New',monospace\"><span style=\"color: #800000; text-decoration-color: #800000\">╭─────────────────────────────── </span><span style=\"color: #800000; text-decoration-color: #800000; font-weight: bold\">Traceback </span><span style=\"color: #bf7f7f; text-decoration-color: #bf7f7f; font-weight: bold\">(most recent call last)</span><span style=\"color: #800000; text-decoration-color: #800000\"> ────────────────────────────────╮</span>\n",
       "<span style=\"color: #800000; text-decoration-color: #800000\">│</span> in &lt;module&gt;:5                                                                                    <span style=\"color: #800000; text-decoration-color: #800000\">│</span>\n",
       "<span style=\"color: #800000; text-decoration-color: #800000\">│</span>                                                                                                  <span style=\"color: #800000; text-decoration-color: #800000\">│</span>\n",
       "<span style=\"color: #800000; text-decoration-color: #800000\">│</span>   <span style=\"color: #7f7f7f; text-decoration-color: #7f7f7f\">2 </span>Main.include(<span style=\"color: #808000; text-decoration-color: #808000\">\"src/econometrics_modelling/pipelines/mixed_modelling/mixed_model.jl\"</span>)          <span style=\"color: #800000; text-decoration-color: #800000\">│</span>\n",
       "<span style=\"color: #800000; text-decoration-color: #800000\">│</span>   <span style=\"color: #7f7f7f; text-decoration-color: #7f7f7f\">3 </span>                                                                                             <span style=\"color: #800000; text-decoration-color: #800000\">│</span>\n",
       "<span style=\"color: #800000; text-decoration-color: #800000\">│</span>   <span style=\"color: #7f7f7f; text-decoration-color: #7f7f7f\">4 </span><span style=\"color: #00ffff; text-decoration-color: #00ffff\">print</span>(<span style=\"color: #808000; text-decoration-color: #808000\">\"✅ Calling Julia model function...\"</span>)                                                  <span style=\"color: #800000; text-decoration-color: #800000\">│</span>\n",
       "<span style=\"color: #800000; text-decoration-color: #800000\">│</span> <span style=\"color: #800000; text-decoration-color: #800000\">❱ </span>5 results = Main.mixed_model_fn(<span style=\"color: #00ffff; text-decoration-color: #00ffff\">str</span>(data_path), formula,grouping_vars)                         <span style=\"color: #800000; text-decoration-color: #800000\">│</span>\n",
       "<span style=\"color: #800000; text-decoration-color: #800000\">│</span>   <span style=\"color: #7f7f7f; text-decoration-color: #7f7f7f\">6 </span><span style=\"color: #00ffff; text-decoration-color: #00ffff\">print</span>(<span style=\"color: #808000; text-decoration-color: #808000\">\"✅ Julia model function returned results\"</span>)                                            <span style=\"color: #800000; text-decoration-color: #800000\">│</span>\n",
       "<span style=\"color: #800000; text-decoration-color: #800000\">│</span>   <span style=\"color: #7f7f7f; text-decoration-color: #7f7f7f\">7 </span>                                                                                             <span style=\"color: #800000; text-decoration-color: #800000\">│</span>\n",
       "<span style=\"color: #800000; text-decoration-color: #800000\">╰──────────────────────────────────────────────────────────────────────────────────────────────────╯</span>\n",
       "<span style=\"color: #ff0000; text-decoration-color: #ff0000; font-weight: bold\">RuntimeError: </span><span style=\"font-weight: bold\">&lt;</span><span style=\"color: #ff00ff; text-decoration-color: #ff00ff; font-weight: bold\">PyCall.jlwrap</span><span style=\"color: #000000; text-decoration-color: #000000\"> </span><span style=\"color: #000000; text-decoration-color: #000000; font-weight: bold\">(</span><span style=\"color: #000000; text-decoration-color: #000000\">in a Julia function called from Python</span><span style=\"color: #000000; text-decoration-color: #000000; font-weight: bold\">)</span>\n",
       "<span style=\"color: #000000; text-decoration-color: #000000\">JULIA: UndefVarError: `log_total_volume` not defined in `Main`</span>\n",
       "<span style=\"color: #000000; text-decoration-color: #000000\">Suggestion: check for spelling errors or missing imports.</span>\n",
       "<span style=\"color: #000000; text-decoration-color: #000000\">Stacktrace:</span>\n",
       "<span style=\"color: #000000; text-decoration-color: #000000\"> </span><span style=\"color: #000000; text-decoration-color: #000000; font-weight: bold\">[</span><span style=\"color: #008080; text-decoration-color: #008080; font-weight: bold\">1</span><span style=\"color: #000000; text-decoration-color: #000000; font-weight: bold\">]</span><span style=\"color: #000000; text-decoration-color: #000000\"> top-level scope</span>\n",
       "<span style=\"color: #000000; text-decoration-color: #000000\">   @ non</span><span style=\"color: #00ff00; text-decoration-color: #00ff00; font-weight: bold\">e:1</span>\n",
       "<span style=\"color: #000000; text-decoration-color: #000000\"> </span><span style=\"color: #000000; text-decoration-color: #000000; font-weight: bold\">[</span><span style=\"color: #008080; text-decoration-color: #008080; font-weight: bold\">2</span><span style=\"color: #000000; text-decoration-color: #000000; font-weight: bold\">]</span><span style=\"color: #000000; text-decoration-color: #000000\"> eval</span>\n",
       "<span style=\"color: #000000; text-decoration-color: #000000\">   @ .</span><span style=\"color: #800080; text-decoration-color: #800080\">/</span><span style=\"color: #ff00ff; text-decoration-color: #ff00ff\">boot.jl</span><span style=\"color: #000000; text-decoration-color: #000000\">:</span><span style=\"color: #008080; text-decoration-color: #008080; font-weight: bold\">430</span><span style=\"color: #000000; text-decoration-color: #000000\"> </span><span style=\"color: #000000; text-decoration-color: #000000; font-weight: bold\">[</span><span style=\"color: #000000; text-decoration-color: #000000\">inlined</span><span style=\"color: #000000; text-decoration-color: #000000; font-weight: bold\">]</span>\n",
       "<span style=\"color: #000000; text-decoration-color: #000000\"> </span><span style=\"color: #000000; text-decoration-color: #000000; font-weight: bold\">[</span><span style=\"color: #008080; text-decoration-color: #008080; font-weight: bold\">3</span><span style=\"color: #000000; text-decoration-color: #000000; font-weight: bold\">]</span><span style=\"color: #000000; text-decoration-color: #000000\"> eval</span>\n",
       "<span style=\"color: #000000; text-decoration-color: #000000\">   @ .</span><span style=\"color: #800080; text-decoration-color: #800080\">/</span><span style=\"color: #ff00ff; text-decoration-color: #ff00ff\">sysimg.jl</span><span style=\"color: #000000; text-decoration-color: #000000\">:</span><span style=\"color: #008080; text-decoration-color: #008080; font-weight: bold\">48</span><span style=\"color: #000000; text-decoration-color: #000000\"> </span><span style=\"color: #000000; text-decoration-color: #000000; font-weight: bold\">[</span><span style=\"color: #000000; text-decoration-color: #000000\">inlined</span><span style=\"color: #000000; text-decoration-color: #000000; font-weight: bold\">]</span>\n",
       "<span style=\"color: #000000; text-decoration-color: #000000\"> </span><span style=\"color: #000000; text-decoration-color: #000000; font-weight: bold\">[</span><span style=\"color: #008080; text-decoration-color: #008080; font-weight: bold\">4</span><span style=\"color: #000000; text-decoration-color: #000000; font-weight: bold\">]</span><span style=\"color: #000000; text-decoration-color: #000000\"> </span><span style=\"color: #800080; text-decoration-color: #800080; font-weight: bold\">mixed_model_fn</span><span style=\"color: #000000; text-decoration-color: #000000; font-weight: bold\">(</span><span style=\"color: #000000; text-decoration-color: #000000\">data_path::String, formula_str::String, group_vars::Vector</span><span style=\"color: #000000; text-decoration-color: #000000; font-weight: bold\">{</span><span style=\"color: #000000; text-decoration-color: #000000\">String</span><span style=\"color: #000000; text-decoration-color: #000000; font-weight: bold\">})</span>\n",
       "<span style=\"color: #000000; text-decoration-color: #000000\">   @ Main </span>\n",
       "<span style=\"color: #000000; text-decoration-color: #000000\">~</span><span style=\"color: #800080; text-decoration-color: #800080\">/Desktop/projects/econometrics-modelling/src/econometrics_modelling/pipelines/mixed_modelling/</span><span style=\"color: #ff00ff; text-decoration-color: #ff00ff\">mixed_model.jl</span><span style=\"color: #000000; text-decoration-color: #000000\">:</span><span style=\"color: #008080; text-decoration-color: #008080; font-weight: bold\">28</span>\n",
       "<span style=\"color: #000000; text-decoration-color: #000000\"> </span><span style=\"color: #000000; text-decoration-color: #000000; font-weight: bold\">[</span><span style=\"color: #008080; text-decoration-color: #008080; font-weight: bold\">5</span><span style=\"color: #000000; text-decoration-color: #000000; font-weight: bold\">]</span><span style=\"color: #000000; text-decoration-color: #000000\"> </span><span style=\"color: #800080; text-decoration-color: #800080; font-weight: bold\">_pyjlwrap_call</span><span style=\"color: #000000; text-decoration-color: #000000; font-weight: bold\">(</span><span style=\"color: #00ff00; text-decoration-color: #00ff00; font-weight: bold\">f::F</span><span style=\"color: #000000; text-decoration-color: #000000\">unction, args_::Ptr</span><span style=\"color: #000000; text-decoration-color: #000000; font-weight: bold\">{</span><span style=\"color: #000000; text-decoration-color: #000000\">PyCall.PyObject_struct</span><span style=\"color: #000000; text-decoration-color: #000000; font-weight: bold\">}</span><span style=\"color: #000000; text-decoration-color: #000000\">, kw_::Ptr</span><span style=\"color: #000000; text-decoration-color: #000000; font-weight: bold\">{</span><span style=\"color: #000000; text-decoration-color: #000000\">PyCall.PyObject_struct</span><span style=\"color: #000000; text-decoration-color: #000000; font-weight: bold\">})</span>\n",
       "<span style=\"color: #000000; text-decoration-color: #000000\">   @ PyCall ~</span><span style=\"color: #800080; text-decoration-color: #800080\">/.julia/packages/PyCall/1gn3u/src/</span><span style=\"color: #ff00ff; text-decoration-color: #ff00ff\">callback.jl</span><span style=\"color: #000000; text-decoration-color: #000000\">:</span><span style=\"color: #008080; text-decoration-color: #008080; font-weight: bold\">28</span>\n",
       "<span style=\"color: #000000; text-decoration-color: #000000\"> </span><span style=\"color: #000000; text-decoration-color: #000000; font-weight: bold\">[</span><span style=\"color: #008080; text-decoration-color: #008080; font-weight: bold\">6</span><span style=\"color: #000000; text-decoration-color: #000000; font-weight: bold\">]</span><span style=\"color: #000000; text-decoration-color: #000000\"> </span><span style=\"color: #800080; text-decoration-color: #800080; font-weight: bold\">pyjlwrap_call</span><span style=\"color: #000000; text-decoration-color: #000000; font-weight: bold\">(</span><span style=\"color: #000000; text-decoration-color: #000000\">self_::Ptr</span><span style=\"color: #000000; text-decoration-color: #000000; font-weight: bold\">{</span><span style=\"color: #000000; text-decoration-color: #000000\">PyCall.PyObject_struct</span><span style=\"color: #000000; text-decoration-color: #000000; font-weight: bold\">}</span><span style=\"color: #000000; text-decoration-color: #000000\">, args_::Ptr</span><span style=\"color: #000000; text-decoration-color: #000000; font-weight: bold\">{</span><span style=\"color: #000000; text-decoration-color: #000000\">PyCall.PyObject_struct</span><span style=\"color: #000000; text-decoration-color: #000000; font-weight: bold\">}</span><span style=\"color: #000000; text-decoration-color: #000000\">, </span>\n",
       "<span style=\"color: #000000; text-decoration-color: #000000\">kw_::Ptr</span><span style=\"color: #000000; text-decoration-color: #000000; font-weight: bold\">{</span><span style=\"color: #000000; text-decoration-color: #000000\">PyCall.PyObject_struct</span><span style=\"color: #000000; text-decoration-color: #000000; font-weight: bold\">})</span>\n",
       "<span style=\"color: #000000; text-decoration-color: #000000\">   @ PyCall ~</span><span style=\"color: #800080; text-decoration-color: #800080\">/.julia/packages/PyCall/1gn3u/src/</span><span style=\"color: #ff00ff; text-decoration-color: #ff00ff\">callback.jl</span><span style=\"color: #000000; text-decoration-color: #000000\">:</span><span style=\"color: #008080; text-decoration-color: #008080; font-weight: bold\">44</span><span style=\"font-weight: bold\">&gt;</span>\n",
       "</pre>\n"
      ],
      "text/plain": [
       "\u001b[31m╭─\u001b[0m\u001b[31m──────────────────────────────\u001b[0m\u001b[31m \u001b[0m\u001b[1;31mTraceback \u001b[0m\u001b[1;2;31m(most recent call last)\u001b[0m\u001b[31m \u001b[0m\u001b[31m───────────────────────────────\u001b[0m\u001b[31m─╮\u001b[0m\n",
       "\u001b[31m│\u001b[0m in <module>:5                                                                                    \u001b[31m│\u001b[0m\n",
       "\u001b[31m│\u001b[0m                                                                                                  \u001b[31m│\u001b[0m\n",
       "\u001b[31m│\u001b[0m   \u001b[2m2 \u001b[0mMain.include(\u001b[33m\"\u001b[0m\u001b[33msrc/econometrics_modelling/pipelines/mixed_modelling/mixed_model.jl\u001b[0m\u001b[33m\"\u001b[0m)          \u001b[31m│\u001b[0m\n",
       "\u001b[31m│\u001b[0m   \u001b[2m3 \u001b[0m                                                                                             \u001b[31m│\u001b[0m\n",
       "\u001b[31m│\u001b[0m   \u001b[2m4 \u001b[0m\u001b[96mprint\u001b[0m(\u001b[33m\"\u001b[0m\u001b[33m✅ Calling Julia model function...\u001b[0m\u001b[33m\"\u001b[0m)                                                  \u001b[31m│\u001b[0m\n",
       "\u001b[31m│\u001b[0m \u001b[31m❱ \u001b[0m5 results = Main.mixed_model_fn(\u001b[96mstr\u001b[0m(data_path), formula,grouping_vars)                         \u001b[31m│\u001b[0m\n",
       "\u001b[31m│\u001b[0m   \u001b[2m6 \u001b[0m\u001b[96mprint\u001b[0m(\u001b[33m\"\u001b[0m\u001b[33m✅ Julia model function returned results\u001b[0m\u001b[33m\"\u001b[0m)                                            \u001b[31m│\u001b[0m\n",
       "\u001b[31m│\u001b[0m   \u001b[2m7 \u001b[0m                                                                                             \u001b[31m│\u001b[0m\n",
       "\u001b[31m╰──────────────────────────────────────────────────────────────────────────────────────────────────╯\u001b[0m\n",
       "\u001b[1;91mRuntimeError: \u001b[0m\u001b[1m<\u001b[0m\u001b[1;95mPyCall.jlwrap\u001b[0m\u001b[39m \u001b[0m\u001b[1;39m(\u001b[0m\u001b[39min a Julia function called from Python\u001b[0m\u001b[1;39m)\u001b[0m\n",
       "\u001b[39mJULIA: UndefVarError: `log_total_volume` not defined in `Main`\u001b[0m\n",
       "\u001b[39mSuggestion: check for spelling errors or missing imports.\u001b[0m\n",
       "\u001b[39mStacktrace:\u001b[0m\n",
       "\u001b[39m \u001b[0m\u001b[1;39m[\u001b[0m\u001b[1;36m1\u001b[0m\u001b[1;39m]\u001b[0m\u001b[39m top-level scope\u001b[0m\n",
       "\u001b[39m   @ non\u001b[0m\u001b[1;92me:1\u001b[0m\n",
       "\u001b[39m \u001b[0m\u001b[1;39m[\u001b[0m\u001b[1;36m2\u001b[0m\u001b[1;39m]\u001b[0m\u001b[39m eval\u001b[0m\n",
       "\u001b[39m   @ .\u001b[0m\u001b[35m/\u001b[0m\u001b[95mboot.jl\u001b[0m\u001b[39m:\u001b[0m\u001b[1;36m430\u001b[0m\u001b[39m \u001b[0m\u001b[1;39m[\u001b[0m\u001b[39minlined\u001b[0m\u001b[1;39m]\u001b[0m\n",
       "\u001b[39m \u001b[0m\u001b[1;39m[\u001b[0m\u001b[1;36m3\u001b[0m\u001b[1;39m]\u001b[0m\u001b[39m eval\u001b[0m\n",
       "\u001b[39m   @ .\u001b[0m\u001b[35m/\u001b[0m\u001b[95msysimg.jl\u001b[0m\u001b[39m:\u001b[0m\u001b[1;36m48\u001b[0m\u001b[39m \u001b[0m\u001b[1;39m[\u001b[0m\u001b[39minlined\u001b[0m\u001b[1;39m]\u001b[0m\n",
       "\u001b[39m \u001b[0m\u001b[1;39m[\u001b[0m\u001b[1;36m4\u001b[0m\u001b[1;39m]\u001b[0m\u001b[39m \u001b[0m\u001b[1;35mmixed_model_fn\u001b[0m\u001b[1;39m(\u001b[0m\u001b[39mdata_path::String, formula_str::String, group_vars::Vector\u001b[0m\u001b[1;39m{\u001b[0m\u001b[39mString\u001b[0m\u001b[1;39m}\u001b[0m\u001b[1;39m)\u001b[0m\n",
       "\u001b[39m   @ Main \u001b[0m\n",
       "\u001b[39m~\u001b[0m\u001b[35m/Desktop/projects/econometrics-modelling/src/econometrics_modelling/pipelines/mixed_modelling/\u001b[0m\u001b[95mmixed_model.jl\u001b[0m\u001b[39m:\u001b[0m\u001b[1;36m28\u001b[0m\n",
       "\u001b[39m \u001b[0m\u001b[1;39m[\u001b[0m\u001b[1;36m5\u001b[0m\u001b[1;39m]\u001b[0m\u001b[39m \u001b[0m\u001b[1;35m_pyjlwrap_call\u001b[0m\u001b[1;39m(\u001b[0m\u001b[1;92mf::F\u001b[0m\u001b[39munction, args_::Ptr\u001b[0m\u001b[1;39m{\u001b[0m\u001b[39mPyCall.PyObject_struct\u001b[0m\u001b[1;39m}\u001b[0m\u001b[39m, kw_::Ptr\u001b[0m\u001b[1;39m{\u001b[0m\u001b[39mPyCall.PyObject_struct\u001b[0m\u001b[1;39m}\u001b[0m\u001b[1;39m)\u001b[0m\n",
       "\u001b[39m   @ PyCall ~\u001b[0m\u001b[35m/.julia/packages/PyCall/1gn3u/src/\u001b[0m\u001b[95mcallback.jl\u001b[0m\u001b[39m:\u001b[0m\u001b[1;36m28\u001b[0m\n",
       "\u001b[39m \u001b[0m\u001b[1;39m[\u001b[0m\u001b[1;36m6\u001b[0m\u001b[1;39m]\u001b[0m\u001b[39m \u001b[0m\u001b[1;35mpyjlwrap_call\u001b[0m\u001b[1;39m(\u001b[0m\u001b[39mself_::Ptr\u001b[0m\u001b[1;39m{\u001b[0m\u001b[39mPyCall.PyObject_struct\u001b[0m\u001b[1;39m}\u001b[0m\u001b[39m, args_::Ptr\u001b[0m\u001b[1;39m{\u001b[0m\u001b[39mPyCall.PyObject_struct\u001b[0m\u001b[1;39m}\u001b[0m\u001b[39m, \u001b[0m\n",
       "\u001b[39mkw_::Ptr\u001b[0m\u001b[1;39m{\u001b[0m\u001b[39mPyCall.PyObject_struct\u001b[0m\u001b[1;39m}\u001b[0m\u001b[1;39m)\u001b[0m\n",
       "\u001b[39m   @ PyCall ~\u001b[0m\u001b[35m/.julia/packages/PyCall/1gn3u/src/\u001b[0m\u001b[95mcallback.jl\u001b[0m\u001b[39m:\u001b[0m\u001b[1;36m44\u001b[0m\u001b[1m>\u001b[0m\n"
      ]
     },
     "metadata": {},
     "output_type": "display_data"
    }
   ],
   "source": [
    "from julia import Main\n",
    "Main.include(\"src/econometrics_modelling/pipelines/mixed_modelling/mixed_model.jl\")\n",
    "\n",
    "print(\"✅ Calling Julia model function...\")\n",
    "results = Main.mixed_model_fn(str(data_path), formula,grouping_vars)\n",
    "print(\"✅ Julia model function returned results\")\n"
   ]
  }
 ],
 "metadata": {
  "kernelspec": {
   "display_name": "trade_promo",
   "language": "python",
   "name": "python3"
  },
  "language_info": {
   "codemirror_mode": {
    "name": "ipython",
    "version": 3
   },
   "file_extension": ".py",
   "mimetype": "text/x-python",
   "name": "python",
   "nbconvert_exporter": "python",
   "pygments_lexer": "ipython3",
   "version": "3.10.18"
  }
 },
 "nbformat": 4,
 "nbformat_minor": 5
}
